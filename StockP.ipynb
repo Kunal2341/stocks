{
 "cells": [
  {
   "cell_type": "markdown",
   "metadata": {},
   "source": [
    "# Import required libraries and instantiate variables and arrays"
   ]
  },
  {
   "cell_type": "code",
   "execution_count": 1,
   "metadata": {},
   "outputs": [],
   "source": [
    "#import all required libraries\n",
    "from datetime import datetime\n",
    "import yfinance as yf\n",
    "import numpy as np\n",
    "import random"
   ]
  },
  {
   "cell_type": "code",
   "execution_count": 2,
   "metadata": {},
   "outputs": [],
   "source": [
    "#instantiate variables\n",
    "data = []\n",
    "result = \"\"\n",
    "final = []\n",
    "score = 0"
   ]
  },
  {
   "cell_type": "markdown",
   "metadata": {},
   "source": [
    "# Get ticker symbol from user and reset array"
   ]
  },
  {
   "cell_type": "code",
   "execution_count": 3,
   "metadata": {},
   "outputs": [
    {
     "name": "stdout",
     "output_type": "stream",
     "text": [
      "Enter a ticker symbol: \n",
      "hd\n"
     ]
    }
   ],
   "source": [
    "#get ticker symbol from user (repeat if invalid)\n",
    "while 1:    \n",
    "    print(\"Enter a ticker symbol: \")\n",
    "    tickerSymbol = input()\n",
    "    stock = yf.Ticker(tickerSymbol)\n",
    "    stockHistory = stock.history(period=\"max\")\n",
    "    for i in stockHistory['Close']:\n",
    "        data.append(i);\n",
    "    if data != []:\n",
    "        break"
   ]
  },
  {
   "cell_type": "code",
   "execution_count": 4,
   "metadata": {},
   "outputs": [],
   "source": [
    "final = []"
   ]
  },
  {
   "cell_type": "markdown",
   "metadata": {},
   "source": [
    "# Moving averages analysis"
   ]
  },
  {
   "cell_type": "code",
   "execution_count": 5,
   "metadata": {},
   "outputs": [
    {
     "data": {
      "text/plain": [
       "10"
      ]
     },
     "execution_count": 5,
     "metadata": {},
     "output_type": "execute_result"
    }
   ],
   "source": [
    "movingAverage = stock.info['twoHundredDayAverage'] - stock.info['fiftyDayAverage']\n",
    "\n",
    "if movingAverage < 0:\n",
    "    result = \"This stock may be on a downward trend, meaning it may not be the best time to buy it.\"\n",
    "elif movingAverage < 25:\n",
    "    result = \"This stock seems to be on an upward trend, meaning it may be safe to buy.\"\n",
    "    score += movingAverage/25*10\n",
    "else:\n",
    "    result = \"This stock has shown impressive growth of over $25.00 in the last 150 days indicating it may be safe to buy.\"\n",
    "    score += 10\n",
    "\n",
    "final.append(\"Moving Averages Analysis: \" + result)\n",
    "score"
   ]
  },
  {
   "cell_type": "markdown",
   "metadata": {},
   "source": [
    "# Payout ratio analysis"
   ]
  },
  {
   "cell_type": "code",
   "execution_count": 19,
   "metadata": {},
   "outputs": [
    {
     "data": {
      "text/plain": [
       "8.407355999999998"
      ]
     },
     "execution_count": 19,
     "metadata": {},
     "output_type": "execute_result"
    }
   ],
   "source": [
    "payoutRatio = stock.info['payoutRatio'] * 100\n",
    "\n",
    "if payoutRatio == 0:\n",
    "    result = \"This company doesn't seem to offer dividends even though its a helpful way to earn money.\"\n",
    "elif payoutRatio < 35:\n",
    "    result = \"This company does offer dividends, but it's not as high as it should be when compared to the amount of money they make.\"\n",
    "    score += abs(payoutRatio-35)/35*10\n",
    "elif payoutRatio < 55:\n",
    "    result = \"This company does offer dividends and it's at a very healthy ratio. This indicates a good buy.\"\n",
    "    score += 10\n",
    "else:\n",
    "    result = \"This company offers dividends but they may be investing too much money in dividends compared to how much they make. You might want to watch out.\"\n",
    "    score += 10-(abs(payoutRatio-55)/45*10)\n",
    "\n",
    "final.append(\"Payout Ratio Analysis: \" + result)\n",
    "score"
   ]
  },
  {
   "cell_type": "markdown",
   "metadata": {},
   "source": [
    "# PEG ratio analysis"
   ]
  },
  {
   "cell_type": "code",
   "execution_count": 20,
   "metadata": {},
   "outputs": [
    {
     "data": {
      "text/plain": [
       "8.407355999999998"
      ]
     },
     "execution_count": 20,
     "metadata": {},
     "output_type": "execute_result"
    }
   ],
   "source": [
    "pegRatio = stock.info['pegRatio']\n",
    "\n",
    "if pegRatio == 1:\n",
    "    result = \"This PEG Ratio is on par with the company's earnings (neither undervalued nor overvalued). This could indicate a good buy although an undervalued stock is generally a better buy.\"\n",
    "    score += 2.5\n",
    "elif abs(pegRatio - 1) < 0.4:\n",
    "    if pegRatio - 1 < 1:\n",
    "        result = \"This PEG Ratio shows a slightly undervalued stock, which would pose as a great buy!\"\n",
    "        score += 3\n",
    "    else: \n",
    "        result = \"This PEG Ratio shows a slightly overvalued stock, which may not be the smartest buy right now.\"\n",
    "        score += 2\n",
    "elif abs(pegRatio - 1) < 0.7:\n",
    "    if pegRatio - 1 < 1:\n",
    "        result = \"This PEG Ratio shows a decently undervalued stock, meaning you get more bang for the buck. This may be a good buy!\"\n",
    "        score += 4\n",
    "    else: \n",
    "        result = \"This PEG Ratio shows a decently overvalued stock, meaning you get less bang for the buck. This may not be the best buy.\"\n",
    "        score += 1\n",
    "elif pegRatio - 1 < 0:\n",
    "    result = \"This company is largely undervalued. It may be a great buy because of the value you are getting for your money.\"\n",
    "    score += 5\n",
    "else: \n",
    "    result = \"This company is largely overvalued. It may not be a good buy because of the value you are getting for your money.\"\n",
    "\n",
    "\n",
    "final.append(\"PEG Ratio Analysis: \" + result)\n",
    "score"
   ]
  },
  {
   "cell_type": "markdown",
   "metadata": {},
   "source": [
    "# Beta analysis"
   ]
  },
  {
   "cell_type": "code",
   "execution_count": null,
   "metadata": {},
   "outputs": [
    {
     "name": "stdout",
     "output_type": "stream",
     "text": [
      "Which type of risk and reward are you looking for for your stock portfolio?\n",
      "1) High risk, high reward\n",
      "2) Low risk, low reward\n",
      "3) Medium risk, medium reward\n",
      "Type in 1, 2, or 3\n"
     ]
    }
   ],
   "source": [
    "rr = \"\"\n",
    "while True:\n",
    "    print(\"Which type of risk and reward are you looking for for your stock portfolio?\")\n",
    "    print(\"1) High risk, high reward\")\n",
    "    print(\"2) Low risk, low reward\")\n",
    "    print(\"3) Medium risk, medium reward\")\n",
    "    print(\"Type in 1, 2, or 3\")\n",
    "    rr = input()\n",
    "    if (rr == 1 or rr == 2 or rr == 3):\n",
    "        print(\"Invalid input. Try again.\")\n",
    "    else: \n",
    "        break\n",
    "\n",
    "beta = stock.info['beta']\n",
    "\n",
    "if abs(beta - 1) <= 0.2:\n",
    "    result = \"This beta shows that the fluctuation of this stock is about on par with the stock market itself. For example, if the stock market is 1% up, this stock is likely 1% up as well.\"\n",
    "    if rr == 1:\n",
    "        score += 2.5\n",
    "    if rr == 2:\n",
    "        score += 2.5\n",
    "    if rr == 3: \n",
    "        score += 5\n",
    "elif abs(beta - 1) < 0.4:\n",
    "    if beta > 1:\n",
    "        result = \"This beta shows that the stock fluctuates more than usual. It may be a bit more risky but it is stil in the safe range.\"\n",
    "        if rr == 1:\n",
    "            score += 4\n",
    "        if rr == 2:\n",
    "            score += 1\n",
    "        if rr == 3:\n",
    "            score += 2\n",
    "    else: \n",
    "        result = \"This beta shows that the stock fluctuates less than usual. It is a less risky investment, but also likely produces less profits.\"\n",
    "        if rr == 1:\n",
    "            score += 1\n",
    "        if rr == 2:\n",
    "            score += 4\n",
    "        if rr == 3:\n",
    "            score += 2\n",
    "else: \n",
    "    if beta > 1: \n",
    "        result = \"This beta shows that this stock fluctuates an extremely large amount. This puts forth a system of high risk and high reward.\"\n",
    "        if rr == 1:\n",
    "            score += 5\n",
    "        if rr == 2:\n",
    "            score += 0\n",
    "        if rr == 3:\n",
    "            score += 1.5\n",
    "    else: \n",
    "        result = \"This beta shows that this stock barely fluctuates meaning it may be hard to make much money off this stock.\"\n",
    "        if rr == 1:\n",
    "            score += 0\n",
    "        if rr == 2:\n",
    "            score += 5\n",
    "        if rr == 3:\n",
    "            score += 1.5\n",
    "\n",
    "final.append(\"Beta Analysis: \" + result)\n",
    "\n",
    "score"
   ]
  },
  {
   "cell_type": "markdown",
   "metadata": {},
   "source": []
  },
  {
   "cell_type": "code",
   "execution_count": null,
   "metadata": {},
   "outputs": [],
   "source": [
    "for item in final:\n",
    "    print(item)"
   ]
  },
  {
   "cell_type": "code",
   "execution_count": 5,
   "metadata": {},
   "outputs": [
    {
     "data": {
      "text/plain": [
       "{'zip': '30339',\n",
       " 'sector': 'Consumer Cyclical',\n",
       " 'fullTimeEmployees': 415700,\n",
       " 'longBusinessSummary': 'The Home Depot, Inc. operates as a home improvement retailer. It operates The Home Depot stores that sell various building materials, home improvement products, lawn and garden products, and décor products, as well as provide installation, home maintenance, and professional service programs to do-it-yourself and professional customers. The company also offers installation programs that include flooring, cabinets and cabinet makeovers, countertops, furnaces and central air systems, and windows; and professional installation in various categories sold through its stores and in-home sales programs, as well as acts as a contractor to provide installation services to its do-it-for-me customers through third-party installers. In addition, it provides tool and equipment rental services. The company primarily serves home owners; and professional renovators/remodelers, general contractors, handymen, property managers, building service contractors, and specialty tradesmen, such as electricians, plumbers, and painters. It also sells its products online. As of February 3, 2019, the company operated 2,287 stores in the United States, including the Commonwealth of Puerto Rico, and the territories of the U.S. Virgin Islands and Guam; Canada; and Mexico. The Home Depot, Inc. was founded in 1978 and is based in Atlanta, Georgia.',\n",
       " 'city': 'Atlanta',\n",
       " 'phone': '770-433-8211',\n",
       " 'state': 'GA',\n",
       " 'country': 'United States',\n",
       " 'companyOfficers': [],\n",
       " 'website': 'http://www.homedepot.com',\n",
       " 'maxAge': 1,\n",
       " 'address1': '2455 Paces Ferry Road',\n",
       " 'industry': 'Home Improvement Retail',\n",
       " 'previousClose': 194.82,\n",
       " 'regularMarketOpen': 199.8,\n",
       " 'twoHundredDayAverage': 221.69101,\n",
       " 'trailingAnnualDividendYield': 0.028641822,\n",
       " 'payoutRatio': 0.53069997,\n",
       " 'volume24Hr': None,\n",
       " 'regularMarketDayHigh': 205.99,\n",
       " 'navPrice': None,\n",
       " 'averageDailyVolume10Day': 6971287,\n",
       " 'totalAssets': None,\n",
       " 'regularMarketPreviousClose': 194.82,\n",
       " 'fiftyDayAverage': 203.34862,\n",
       " 'trailingAnnualDividendRate': 5.58,\n",
       " 'open': 199.8,\n",
       " 'toCurrency': None,\n",
       " 'averageVolume10days': 6971287,\n",
       " 'expireDate': None,\n",
       " 'yield': None,\n",
       " 'algorithm': None,\n",
       " 'dividendRate': 6,\n",
       " 'exDividendDate': 1583884800,\n",
       " 'beta': 0.977079,\n",
       " 'circulatingSupply': None,\n",
       " 'startDate': None,\n",
       " 'regularMarketDayLow': 196.5,\n",
       " 'priceHint': 2,\n",
       " 'currency': 'USD',\n",
       " 'trailingPE': 19.661463,\n",
       " 'regularMarketVolume': 6843317,\n",
       " 'lastMarket': None,\n",
       " 'maxSupply': None,\n",
       " 'openInterest': None,\n",
       " 'marketCap': 216467390464,\n",
       " 'volumeAllCurrencies': None,\n",
       " 'strikePrice': None,\n",
       " 'averageVolume': 6709485,\n",
       " 'priceToSalesTrailing12Months': 1.9638684,\n",
       " 'dayLow': 196.5,\n",
       " 'ask': 202.49,\n",
       " 'ytdReturn': None,\n",
       " 'askSize': 900,\n",
       " 'volume': 6843317,\n",
       " 'fiftyTwoWeekHigh': 247.36,\n",
       " 'forwardPE': 18.27108,\n",
       " 'fromCurrency': None,\n",
       " 'fiveYearAvgDividendYield': 2.07,\n",
       " 'fiftyTwoWeekLow': 140.63,\n",
       " 'bid': 201.51,\n",
       " 'tradeable': True,\n",
       " 'dividendYield': 0.0308,\n",
       " 'bidSize': 900,\n",
       " 'dayHigh': 205.99,\n",
       " 'exchange': 'NYQ',\n",
       " 'shortName': 'Home Depot, Inc. (The)',\n",
       " 'longName': 'The Home Depot, Inc.',\n",
       " 'exchangeTimezoneName': 'America/New_York',\n",
       " 'exchangeTimezoneShortName': 'EDT',\n",
       " 'isEsgPopulated': False,\n",
       " 'gmtOffSetMilliseconds': '-14400000',\n",
       " 'quoteType': 'EQUITY',\n",
       " 'symbol': 'HD',\n",
       " 'messageBoardId': 'finmb_278679',\n",
       " 'market': 'us_market',\n",
       " 'annualHoldingsTurnover': None,\n",
       " 'enterpriseToRevenue': 2.219,\n",
       " 'beta3Year': None,\n",
       " 'profitMargins': 0.10199001,\n",
       " 'enterpriseToEbitda': 13.486,\n",
       " '52WeekChange': -0.033055305,\n",
       " 'morningStarRiskRating': None,\n",
       " 'forwardEps': 11.03,\n",
       " 'revenueQuarterlyGrowth': None,\n",
       " 'sharesOutstanding': 1090829952,\n",
       " 'fundInceptionDate': None,\n",
       " 'annualReportExpenseRatio': None,\n",
       " 'bookValue': -2.893,\n",
       " 'sharesShort': 9863568,\n",
       " 'sharesPercentSharesOut': 0.0092,\n",
       " 'fundFamily': None,\n",
       " 'lastFiscalYearEnd': 1580601600,\n",
       " 'heldPercentInstitutions': 0.72439003,\n",
       " 'netIncomeToCommon': 11242000384,\n",
       " 'trailingEps': 10.25,\n",
       " 'lastDividendValue': None,\n",
       " 'SandP52WeekChange': -0.047896385,\n",
       " 'priceToBook': None,\n",
       " 'heldPercentInsiders': 0.00116,\n",
       " 'nextFiscalYearEnd': 1643760000,\n",
       " 'mostRecentQuarter': 1580601600,\n",
       " 'shortRatio': 1.48,\n",
       " 'sharesShortPreviousMonthDate': 1581638400,\n",
       " 'floatShares': 1073043500,\n",
       " 'enterpriseValue': 244625162240,\n",
       " 'threeYearAverageReturn': None,\n",
       " 'lastSplitDate': 946598400,\n",
       " 'lastSplitFactor': '3:2',\n",
       " 'legalType': None,\n",
       " 'morningStarOverallRating': None,\n",
       " 'earningsQuarterlyGrowth': 0.058,\n",
       " 'dateShortInterest': 1584057600,\n",
       " 'pegRatio': 2.71,\n",
       " 'lastCapGain': None,\n",
       " 'shortPercentOfFloat': 0.009,\n",
       " 'sharesShortPriorMonth': 9501816,\n",
       " 'category': None,\n",
       " 'fiveYearAverageReturn': None,\n",
       " 'regularMarketPrice': 199.8,\n",
       " 'logo_url': 'https://logo.clearbit.com/homedepot.com'}"
      ]
     },
     "execution_count": 5,
     "metadata": {},
     "output_type": "execute_result"
    }
   ],
   "source": [
    "stock.info"
   ]
  },
  {
   "cell_type": "markdown",
   "metadata": {},
   "source": [
    "# yf call on stock"
   ]
  },
  {
   "cell_type": "code",
   "execution_count": null,
   "metadata": {},
   "outputs": [],
   "source": [
    "#stock.info --> Displays generic information about the stock\n",
    "#stock.history(period=\"max\") --> Displays open, high, low, close, volume, dividends, stock splits by the date\n",
    "#stock.actions --> Displays dividends and splits of the stock\n",
    "#stock.dividends --> Displays dividends of the stock and a number\n",
    "#stock.splits --> Displays when stocks went through splits and what factor\n",
    "#stock.major_holders --> Displays information about where the stocks are located (ex. generic public)\n",
    "#stock.instituional_holders --> Displays information about the instituional holders of the stocks and percentages and numbres regarding this\n",
    "#stock.sustainability --> Displays data about sustainability of the company\n",
    "#stock.recommendations --> Displays recommendations by multiple investors news sources\n",
    "#stock.calender --> Displays earnings date, earnings average, earnings low, earnings high, revenue average, revenue low, revenue high"
   ]
  },
  {
   "cell_type": "markdown",
   "metadata": {},
   "source": [
    "# Data to analyze with stock.info"
   ]
  },
  {
   "cell_type": "code",
   "execution_count": null,
   "metadata": {},
   "outputs": [],
   "source": [
    "#net income to common --> netIncomeToCommon --> 11242000384\n",
    "#sand p 53 week change --> SandP52WeekChange --> -0.047896385\n",
    "#bid size --> bidSize --> 900\n",
    "#five year average dividend yield --> fiveYearAvgDividendYield --> 2.07\n",
    "#fifty two week low --> fiftyTwoWeekLow --> 140.63\n",
    "#bid --> bid --> 201.51\n",
    "#fifty two week high --> fiftyTwoWeekHigh --> 247.36\n",
    "#forward PE --> forwardPE --> 18.27108\n",
    "#ex dividend date --> exDividendDate --> 1583884800\n",
    "#price hint --> priceHint --> 2\n",
    "#trailing PE --> trailingPE --> 19.661463\n",
    "#regular market volume --> regularMarketVolume --> 6843317\n",
    "#average volume --> avgerageVolume --> 6709485\n",
    "#price to sales trailing 12 months --> priceToSalesTrailing12Months --> 1.96386\n",
    "#ask --> ask --> 202.49\n",
    "#ask size --> askSize --> 900\n",
    "#volume --> 6843317\n",
    "#average daily volume 10 day --> averageDailyVolume10Day --> 6971287\n",
    "#trailing annual dividend yield --> trailingAnnualDividendYield --> 0.02916427\n",
    "#trailing annual dividend rate --> trailingAnnualDividendRate --> 5.58\n",
    "#dividend rate --> dividendRate --> 6\n",
    "#five year average divided yield --> fiveYearAvgDividendYield --> 2.07\n",
    "#dividend yield --> dividendYield --> 0.031400003\n",
    "#52 week change --> 52WeekChange --> -0.047635615\n",
    "#forward EPS --> forwardEps --> 11.06\n",
    "#book value --> bookValue --> -2.893\n",
    "#held percentage institutions --> heldPercentageInstitutions --> 0.72363997\n",
    "#trailing EPS --> trailingEps --> 10.25\n",
    "#held percentage insiders --> heldPercentageInsiders --> 0.00116\n",
    "#short ratio --> shortRatio --> 1.48\n",
    "#earnings quarterly growth --> earningsQuarterlyGrowth --> 0.058"
   ]
  },
  {
   "cell_type": "markdown",
   "metadata": {},
   "source": [
    "# What to be aware of in general"
   ]
  },
  {
   "cell_type": "code",
   "execution_count": null,
   "metadata": {},
   "outputs": [],
   "source": [
    "#immidiate gains or shoot ups"
   ]
  },
  {
   "cell_type": "code",
   "execution_count": null,
   "metadata": {},
   "outputs": [],
   "source": [
    "#payout ratio --> payoutRatio --> 0.53069997\n",
    "#peg ratio --> pegRatio --> 2.69\n",
    "#beta --> beta --> 0.977079\n",
    "#symbol --> symbol --> HD\n",
    "#50 day avg --> fiftyDayAverage --> 203.35\n",
    "#200 day avg --> twoHundredDayAverage --> 221.69\n",
    "#profit margins --> profitMargin --> 0.1019901\n",
    "#enterprise to revenue --> enterpriseToRevenue --> 2.185\n",
    "#enterprise to Ebitda --> enterpriseToEbitda --> 13.279"
   ]
  }
 ],
 "metadata": {
  "kernelspec": {
   "display_name": "Python 3",
   "language": "python",
   "name": "python3"
  },
  "language_info": {
   "codemirror_mode": {
    "name": "ipython",
    "version": 3
   },
   "file_extension": ".py",
   "mimetype": "text/x-python",
   "name": "python",
   "nbconvert_exporter": "python",
   "pygments_lexer": "ipython3",
   "version": "3.7.4"
  },
  "toc": {
   "base_numbering": 1,
   "nav_menu": {},
   "number_sections": true,
   "sideBar": true,
   "skip_h1_title": false,
   "title_cell": "Table of Contents",
   "title_sidebar": "Contents",
   "toc_cell": false,
   "toc_position": {},
   "toc_section_display": true,
   "toc_window_display": false
  }
 },
 "nbformat": 4,
 "nbformat_minor": 2
}
